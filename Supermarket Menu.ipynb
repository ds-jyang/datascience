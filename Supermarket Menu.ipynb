{
 "cells": [
  {
   "cell_type": "markdown",
   "id": "04c062fb-e4b2-46f1-ab55-69dc463ecd4b",
   "metadata": {},
   "source": [
    "# Supermarket"
   ]
  },
  {
   "cell_type": "code",
   "execution_count": 1,
   "id": "bde26d7e-0906-40b8-9179-93ab08802a7b",
   "metadata": {},
   "outputs": [
    {
     "name": "stdin",
     "output_type": "stream",
     "text": [
      "Enter your email address:  hello@gmail.com\n"
     ]
    }
   ],
   "source": [
    "email = input(\"Enter your email address: \")"
   ]
  },
  {
   "cell_type": "code",
   "execution_count": 5,
   "id": "cb88ff72-0689-4eea-bdd0-c0407db09c5f",
   "metadata": {},
   "outputs": [
    {
     "name": "stdin",
     "output_type": "stream",
     "text": [
      "Enter your password:  123\n"
     ]
    }
   ],
   "source": [
    "password = input(\"Enter your password: \")"
   ]
  },
  {
   "cell_type": "code",
   "execution_count": 29,
   "id": "9a6a8fde-0616-449e-9012-c60b01291fa4",
   "metadata": {},
   "outputs": [],
   "source": [
    "customer_list = [{'email': \"hi@gmail.com\", 'password': \"123\"}]"
   ]
  },
  {
   "cell_type": "code",
   "execution_count": null,
   "id": "120beb4e-c734-4a6c-9ac3-948c8c1e8f08",
   "metadata": {},
   "outputs": [],
   "source": []
  },
  {
   "cell_type": "code",
   "execution_count": 37,
   "id": "2591d406-6beb-472e-8cc3-6e583ae10c90",
   "metadata": {},
   "outputs": [],
   "source": [
    "def customer_login():\n",
    "    email = input(\"Enter your email address: \")\n",
    "    password = input(\"Enter your password: \")\n",
    "    invalid_empas = False\n",
    "\n",
    "    for customer in customer_list:\n",
    "        if customer[\"email\"] == email and customer[\"password\"] == password:\n",
    "            print(\"Login is successful\")\n",
    "        else:\n",
    "            invalid_empas = True\n",
    "            print(\"Invalid email or password, please try again\")"
   ]
  },
  {
   "cell_type": "code",
   "execution_count": 41,
   "id": "80ae439b-ecd1-4dd8-9087-0236a3f541bc",
   "metadata": {},
   "outputs": [
    {
     "name": "stdin",
     "output_type": "stream",
     "text": [
      "Enter your email address:  hiqw@gmail.com\n",
      "Enter your password:  123\n"
     ]
    },
    {
     "name": "stdout",
     "output_type": "stream",
     "text": [
      "Invalid email or password, please try again\n"
     ]
    }
   ],
   "source": [
    "customer_login()"
   ]
  },
  {
   "cell_type": "code",
   "execution_count": null,
   "id": "c0b80589-ff2e-42aa-8f56-6a1131f16966",
   "metadata": {},
   "outputs": [],
   "source": []
  }
 ],
 "metadata": {
  "kernelspec": {
   "display_name": "Python 3 (ipykernel)",
   "language": "python",
   "name": "python3"
  },
  "language_info": {
   "codemirror_mode": {
    "name": "ipython",
    "version": 3
   },
   "file_extension": ".py",
   "mimetype": "text/x-python",
   "name": "python",
   "nbconvert_exporter": "python",
   "pygments_lexer": "ipython3",
   "version": "3.12.4"
  }
 },
 "nbformat": 4,
 "nbformat_minor": 5
}
