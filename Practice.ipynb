{
 "cells": [
  {
   "cell_type": "code",
   "execution_count": 1,
   "id": "ae3722fd-792b-48c6-b80b-3f2d25fce774",
   "metadata": {},
   "outputs": [],
   "source": [
    "x = 10\n",
    "y = 15"
   ]
  },
  {
   "cell_type": "code",
   "execution_count": 3,
   "id": "8f678ad3-5ab1-4d64-8175-3d8a3073e355",
   "metadata": {},
   "outputs": [
    {
     "name": "stdout",
     "output_type": "stream",
     "text": [
      "25\n"
     ]
    }
   ],
   "source": [
    "print(x+y)"
   ]
  },
  {
   "cell_type": "code",
   "execution_count": null,
   "id": "4a476662-e1b9-47c8-afca-ef9a408d3172",
   "metadata": {},
   "outputs": [],
   "source": []
  }
 ],
 "metadata": {
  "kernelspec": {
   "display_name": "Python 3 (ipykernel)",
   "language": "python",
   "name": "python3"
  },
  "language_info": {
   "codemirror_mode": {
    "name": "ipython",
    "version": 3
   },
   "file_extension": ".py",
   "mimetype": "text/x-python",
   "name": "python",
   "nbconvert_exporter": "python",
   "pygments_lexer": "ipython3",
   "version": "3.12.4"
  }
 },
 "nbformat": 4,
 "nbformat_minor": 5
}
